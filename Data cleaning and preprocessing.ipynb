{
 "cells": [
  {
   "cell_type": "code",
   "execution_count": 54,
   "id": "660fa3d6-ab3f-4ae7-9db5-55498908a136",
   "metadata": {},
   "outputs": [
    {
     "name": "stderr",
     "output_type": "stream",
     "text": [
      "UsageError: unrecognized arguments: # عرض الرسومات داخل Jupyter\n"
     ]
    }
   ],
   "source": [
    "import pandas as pd\n",
    "import matplotlib.pyplot as plt\n",
    "import seaborn as sns\n",
    "%matplotlib inline   # عرض الرسومات داخل Jupyter"
   ]
  },
  {
   "cell_type": "code",
   "execution_count": null,
   "id": "453eb748-7ee4-4939-a1f9-31e82b379f0e",
   "metadata": {},
   "outputs": [
    {
     "name": "stdout",
     "output_type": "stream",
     "text": [
      "🔍 Preview of data:\n"
     ]
    },
    {
     "data": {
      "text/html": [
       "<div>\n",
       "<style scoped>\n",
       "    .dataframe tbody tr th:only-of-type {\n",
       "        vertical-align: middle;\n",
       "    }\n",
       "\n",
       "    .dataframe tbody tr th {\n",
       "        vertical-align: top;\n",
       "    }\n",
       "\n",
       "    .dataframe thead th {\n",
       "        text-align: right;\n",
       "    }\n",
       "</style>\n",
       "<table border=\"1\" class=\"dataframe\">\n",
       "  <thead>\n",
       "    <tr style=\"text-align: right;\">\n",
       "      <th></th>\n",
       "      <th>Phone_ID</th>\n",
       "      <th>Brand</th>\n",
       "      <th>RAM_GB</th>\n",
       "      <th>Storage_GB</th>\n",
       "      <th>Screen_Size</th>\n",
       "      <th>Price_USD</th>\n",
       "      <th>Battery_mAh</th>\n",
       "      <th>OS</th>\n",
       "      <th>Rating</th>\n",
       "      <th>Quantity_Sold</th>\n",
       "      <th>Sales_Revenue</th>\n",
       "      <th>Profit</th>\n",
       "    </tr>\n",
       "  </thead>\n",
       "  <tbody>\n",
       "    <tr>\n",
       "      <th>0</th>\n",
       "      <td>1</td>\n",
       "      <td>OnePlus</td>\n",
       "      <td>8</td>\n",
       "      <td>256</td>\n",
       "      <td>7.15</td>\n",
       "      <td>395.0</td>\n",
       "      <td>3227.0</td>\n",
       "      <td>Android</td>\n",
       "      <td>4.3</td>\n",
       "      <td>66</td>\n",
       "      <td>26070.0</td>\n",
       "      <td>6517.5</td>\n",
       "    </tr>\n",
       "    <tr>\n",
       "      <th>1</th>\n",
       "      <td>2</td>\n",
       "      <td>Google</td>\n",
       "      <td>12</td>\n",
       "      <td>256</td>\n",
       "      <td>6.44</td>\n",
       "      <td>228.0</td>\n",
       "      <td>5881.0</td>\n",
       "      <td>Android</td>\n",
       "      <td>3.5</td>\n",
       "      <td>100</td>\n",
       "      <td>22800.0</td>\n",
       "      <td>5700.0</td>\n",
       "    </tr>\n",
       "    <tr>\n",
       "      <th>2</th>\n",
       "      <td>3</td>\n",
       "      <td>Xiaomi</td>\n",
       "      <td>16</td>\n",
       "      <td>1024</td>\n",
       "      <td>7.23</td>\n",
       "      <td>905.0</td>\n",
       "      <td>3857.0</td>\n",
       "      <td>iOS</td>\n",
       "      <td>4.8</td>\n",
       "      <td>496</td>\n",
       "      <td>NaN</td>\n",
       "      <td>112220.0</td>\n",
       "    </tr>\n",
       "    <tr>\n",
       "      <th>3</th>\n",
       "      <td>4</td>\n",
       "      <td>Google</td>\n",
       "      <td>16</td>\n",
       "      <td>512</td>\n",
       "      <td>6.49</td>\n",
       "      <td>NaN</td>\n",
       "      <td>4268.0</td>\n",
       "      <td>iOS</td>\n",
       "      <td>4.7</td>\n",
       "      <td>319</td>\n",
       "      <td>389180.0</td>\n",
       "      <td>97295.0</td>\n",
       "    </tr>\n",
       "    <tr>\n",
       "      <th>4</th>\n",
       "      <td>5</td>\n",
       "      <td>Google</td>\n",
       "      <td>16</td>\n",
       "      <td>128</td>\n",
       "      <td>7.03</td>\n",
       "      <td>NaN</td>\n",
       "      <td>5865.0</td>\n",
       "      <td>Android</td>\n",
       "      <td>4.0</td>\n",
       "      <td>364</td>\n",
       "      <td>78260.0</td>\n",
       "      <td>NaN</td>\n",
       "    </tr>\n",
       "  </tbody>\n",
       "</table>\n",
       "</div>"
      ],
      "text/plain": [
       "   Phone_ID    Brand  RAM_GB  Storage_GB  Screen_Size  Price_USD  Battery_mAh  \\\n",
       "0         1  OnePlus       8         256         7.15      395.0       3227.0   \n",
       "1         2   Google      12         256         6.44      228.0       5881.0   \n",
       "2         3   Xiaomi      16        1024         7.23      905.0       3857.0   \n",
       "3         4   Google      16         512         6.49        NaN       4268.0   \n",
       "4         5   Google      16         128         7.03        NaN       5865.0   \n",
       "\n",
       "        OS  Rating  Quantity_Sold  Sales_Revenue    Profit  \n",
       "0  Android     4.3             66        26070.0    6517.5  \n",
       "1  Android     3.5            100        22800.0    5700.0  \n",
       "2      iOS     4.8            496            NaN  112220.0  \n",
       "3      iOS     4.7            319       389180.0   97295.0  \n",
       "4  Android     4.0            364        78260.0       NaN  "
      ]
     },
     "metadata": {},
     "output_type": "display_data"
    }
   ],
   "source": [
    "# قراءة البيانات\n",
    "file_path = r\"C:\\Users\\Rawan\\Documents\\smartphone_sales_dataset.csv\"\n",
    "df = pd.read_csv(file_path)\n",
    "# معاينة أول 5 صفوف\n",
    "print(\"🔍 Preview of data:\")\n",
    "display(df.head())"
   ]
  },
  {
   "cell_type": "code",
   "execution_count": 64,
   "id": "78d56734-7a32-491a-a839-65e38489e3cd",
   "metadata": {},
   "outputs": [
    {
     "name": "stdout",
     "output_type": "stream",
     "text": [
      "\n",
      "ℹ Initial Data Info:\n",
      "<class 'pandas.core.frame.DataFrame'>\n",
      "RangeIndex: 1694 entries, 0 to 1693\n",
      "Data columns (total 12 columns):\n",
      " #   Column         Non-Null Count  Dtype  \n",
      "---  ------         --------------  -----  \n",
      " 0   Phone_ID       1694 non-null   int64  \n",
      " 1   Brand          1694 non-null   object \n",
      " 2   RAM_GB         1694 non-null   int64  \n",
      " 3   Storage_GB     1694 non-null   int64  \n",
      " 4   Screen_Size    1694 non-null   float64\n",
      " 5   Price_USD      1694 non-null   float64\n",
      " 6   Battery_mAh    1694 non-null   float64\n",
      " 7   OS             1694 non-null   object \n",
      " 8   Rating         1694 non-null   float64\n",
      " 9   Quantity_Sold  1694 non-null   int64  \n",
      " 10  Sales_Revenue  1694 non-null   float64\n",
      " 11  Profit         1694 non-null   float64\n",
      "dtypes: float64(6), int64(4), object(2)\n",
      "memory usage: 158.9+ KB\n"
     ]
    }
   ],
   "source": [
    "# معلومات أولية عن البيانات\n",
    "print(\"\\nℹ Initial Data Info:\")\n",
    "df.info()"
   ]
  },
  {
   "cell_type": "code",
   "execution_count": 65,
   "id": "58392447-3a85-4e63-8625-4973320150d3",
   "metadata": {},
   "outputs": [
    {
     "name": "stdout",
     "output_type": "stream",
     "text": [
      "\n",
      "! Missing Values:\n",
      "Phone_ID         0\n",
      "Brand            0\n",
      "RAM_GB           0\n",
      "Storage_GB       0\n",
      "Screen_Size      0\n",
      "Price_USD        0\n",
      "Battery_mAh      0\n",
      "OS               0\n",
      "Rating           0\n",
      "Quantity_Sold    0\n",
      "Sales_Revenue    0\n",
      "Profit           0\n",
      "dtype: int64\n"
     ]
    }
   ],
   "source": [
    "# التحقق من القيم المفقودة\n",
    "print(\"\\n! Missing Values:\")\n",
    "print(df.isnull().sum())"
   ]
  },
  {
   "cell_type": "code",
   "execution_count": 63,
   "id": "85b819a5-e0c9-48a1-960d-c1399654e063",
   "metadata": {},
   "outputs": [
    {
     "name": "stdout",
     "output_type": "stream",
     "text": [
      "\n",
      "✅ Cleaned Data Summary:\n"
     ]
    },
    {
     "data": {
      "text/html": [
       "<div>\n",
       "<style scoped>\n",
       "    .dataframe tbody tr th:only-of-type {\n",
       "        vertical-align: middle;\n",
       "    }\n",
       "\n",
       "    .dataframe tbody tr th {\n",
       "        vertical-align: top;\n",
       "    }\n",
       "\n",
       "    .dataframe thead th {\n",
       "        text-align: right;\n",
       "    }\n",
       "</style>\n",
       "<table border=\"1\" class=\"dataframe\">\n",
       "  <thead>\n",
       "    <tr style=\"text-align: right;\">\n",
       "      <th></th>\n",
       "      <th>Phone_ID</th>\n",
       "      <th>RAM_GB</th>\n",
       "      <th>Storage_GB</th>\n",
       "      <th>Screen_Size</th>\n",
       "      <th>Price_USD</th>\n",
       "      <th>Battery_mAh</th>\n",
       "      <th>Rating</th>\n",
       "      <th>Quantity_Sold</th>\n",
       "      <th>Sales_Revenue</th>\n",
       "      <th>Profit</th>\n",
       "    </tr>\n",
       "  </thead>\n",
       "  <tbody>\n",
       "    <tr>\n",
       "      <th>count</th>\n",
       "      <td>1694.000000</td>\n",
       "      <td>1694.000000</td>\n",
       "      <td>1694.000000</td>\n",
       "      <td>1694.000000</td>\n",
       "      <td>1694.000000</td>\n",
       "      <td>1694.000000</td>\n",
       "      <td>1694.000000</td>\n",
       "      <td>1694.000000</td>\n",
       "      <td>1694.000000</td>\n",
       "      <td>1694.000000</td>\n",
       "    </tr>\n",
       "    <tr>\n",
       "      <th>mean</th>\n",
       "      <td>1000.284534</td>\n",
       "      <td>9.329398</td>\n",
       "      <td>401.756789</td>\n",
       "      <td>6.261110</td>\n",
       "      <td>866.838843</td>\n",
       "      <td>4524.098583</td>\n",
       "      <td>3.996930</td>\n",
       "      <td>275.988784</td>\n",
       "      <td>238134.726682</td>\n",
       "      <td>59533.681671</td>\n",
       "    </tr>\n",
       "    <tr>\n",
       "      <th>std</th>\n",
       "      <td>575.353099</td>\n",
       "      <td>4.364262</td>\n",
       "      <td>349.227242</td>\n",
       "      <td>0.724669</td>\n",
       "      <td>369.798538</td>\n",
       "      <td>864.764418</td>\n",
       "      <td>0.581383</td>\n",
       "      <td>128.336577</td>\n",
       "      <td>156274.014777</td>\n",
       "      <td>39068.503694</td>\n",
       "    </tr>\n",
       "    <tr>\n",
       "      <th>min</th>\n",
       "      <td>1.000000</td>\n",
       "      <td>4.000000</td>\n",
       "      <td>64.000000</td>\n",
       "      <td>5.000000</td>\n",
       "      <td>200.000000</td>\n",
       "      <td>3002.000000</td>\n",
       "      <td>3.000000</td>\n",
       "      <td>50.000000</td>\n",
       "      <td>11600.000000</td>\n",
       "      <td>2900.000000</td>\n",
       "    </tr>\n",
       "    <tr>\n",
       "      <th>25%</th>\n",
       "      <td>499.250000</td>\n",
       "      <td>6.000000</td>\n",
       "      <td>128.000000</td>\n",
       "      <td>5.640000</td>\n",
       "      <td>558.000000</td>\n",
       "      <td>3761.000000</td>\n",
       "      <td>3.500000</td>\n",
       "      <td>166.000000</td>\n",
       "      <td>110830.500000</td>\n",
       "      <td>27707.625000</td>\n",
       "    </tr>\n",
       "    <tr>\n",
       "      <th>50%</th>\n",
       "      <td>1001.000000</td>\n",
       "      <td>8.000000</td>\n",
       "      <td>256.000000</td>\n",
       "      <td>6.245000</td>\n",
       "      <td>865.000000</td>\n",
       "      <td>4525.000000</td>\n",
       "      <td>4.000000</td>\n",
       "      <td>277.000000</td>\n",
       "      <td>202349.000000</td>\n",
       "      <td>50587.250000</td>\n",
       "    </tr>\n",
       "    <tr>\n",
       "      <th>75%</th>\n",
       "      <td>1494.750000</td>\n",
       "      <td>12.000000</td>\n",
       "      <td>512.000000</td>\n",
       "      <td>6.900000</td>\n",
       "      <td>1188.750000</td>\n",
       "      <td>5283.000000</td>\n",
       "      <td>4.500000</td>\n",
       "      <td>383.000000</td>\n",
       "      <td>332413.500000</td>\n",
       "      <td>83103.375000</td>\n",
       "    </tr>\n",
       "    <tr>\n",
       "      <th>max</th>\n",
       "      <td>2000.000000</td>\n",
       "      <td>16.000000</td>\n",
       "      <td>1024.000000</td>\n",
       "      <td>7.500000</td>\n",
       "      <td>1499.000000</td>\n",
       "      <td>5999.000000</td>\n",
       "      <td>5.000000</td>\n",
       "      <td>499.000000</td>\n",
       "      <td>738514.000000</td>\n",
       "      <td>184628.500000</td>\n",
       "    </tr>\n",
       "  </tbody>\n",
       "</table>\n",
       "</div>"
      ],
      "text/plain": [
       "          Phone_ID       RAM_GB   Storage_GB  Screen_Size    Price_USD  \\\n",
       "count  1694.000000  1694.000000  1694.000000  1694.000000  1694.000000   \n",
       "mean   1000.284534     9.329398   401.756789     6.261110   866.838843   \n",
       "std     575.353099     4.364262   349.227242     0.724669   369.798538   \n",
       "min       1.000000     4.000000    64.000000     5.000000   200.000000   \n",
       "25%     499.250000     6.000000   128.000000     5.640000   558.000000   \n",
       "50%    1001.000000     8.000000   256.000000     6.245000   865.000000   \n",
       "75%    1494.750000    12.000000   512.000000     6.900000  1188.750000   \n",
       "max    2000.000000    16.000000  1024.000000     7.500000  1499.000000   \n",
       "\n",
       "       Battery_mAh       Rating  Quantity_Sold  Sales_Revenue         Profit  \n",
       "count  1694.000000  1694.000000    1694.000000    1694.000000    1694.000000  \n",
       "mean   4524.098583     3.996930     275.988784  238134.726682   59533.681671  \n",
       "std     864.764418     0.581383     128.336577  156274.014777   39068.503694  \n",
       "min    3002.000000     3.000000      50.000000   11600.000000    2900.000000  \n",
       "25%    3761.000000     3.500000     166.000000  110830.500000   27707.625000  \n",
       "50%    4525.000000     4.000000     277.000000  202349.000000   50587.250000  \n",
       "75%    5283.000000     4.500000     383.000000  332413.500000   83103.375000  \n",
       "max    5999.000000     5.000000     499.000000  738514.000000  184628.500000  "
      ]
     },
     "metadata": {},
     "output_type": "display_data"
    },
    {
     "name": "stdout",
     "output_type": "stream",
     "text": [
      "\n",
      "📋 Final Data Info:\n",
      "<class 'pandas.core.frame.DataFrame'>\n",
      "RangeIndex: 1694 entries, 0 to 1693\n",
      "Data columns (total 12 columns):\n",
      " #   Column         Non-Null Count  Dtype  \n",
      "---  ------         --------------  -----  \n",
      " 0   Phone_ID       1694 non-null   int64  \n",
      " 1   Brand          1694 non-null   object \n",
      " 2   RAM_GB         1694 non-null   int64  \n",
      " 3   Storage_GB     1694 non-null   int64  \n",
      " 4   Screen_Size    1694 non-null   float64\n",
      " 5   Price_USD      1694 non-null   float64\n",
      " 6   Battery_mAh    1694 non-null   float64\n",
      " 7   OS             1694 non-null   object \n",
      " 8   Rating         1694 non-null   float64\n",
      " 9   Quantity_Sold  1694 non-null   int64  \n",
      " 10  Sales_Revenue  1694 non-null   float64\n",
      " 11  Profit         1694 non-null   float64\n",
      "dtypes: float64(6), int64(4), object(2)\n",
      "memory usage: 158.9+ KB\n"
     ]
    }
   ],
   "source": [
    "# تنظيف الأعمدة النصية\n",
    "text_columns = ['Brand', 'OS']\n",
    "for col in text_columns:\n",
    "    df[col] = df[col].astype(str).str.strip().str.lower()\n",
    "# حذف الصفوف التي تحتوي على قيم مفقودة\n",
    "df.dropna(inplace=True)\n",
    "\n",
    "# التأكد من أن التقييم بين 1 و 5\n",
    "df = df[df['Rating'].between(1, 5)]\n",
    "\n",
    "# التأكد من أن القيم الرقمية موجبة\n",
    "numeric_cols = ['RAM_GB', 'Storage_GB', 'Screen_Size', 'Price_USD', \n",
    "                'Battery_mAh', 'Quantity_Sold', 'Sales_Revenue', 'Profit']\n",
    "for col in numeric_cols:\n",
    "    df = df[df[col] > 0]\n",
    "\n",
    "# إزالة القيم الشاذة في Price_USD باستخدام IQR\n",
    "Q1 = df['Price_USD'].quantile(0.25)\n",
    "Q3 = df['Price_USD'].quantile(0.75)\n",
    "IQR = Q3 - Q1\n",
    "df = df[(df['Price_USD'] >= Q1 - 1.5 * IQR) & (df['Price_USD'] <= Q3 + 1.5 * IQR)]\n",
    "\n",
    "# إعادة تعيين الفهرس\n",
    "df.reset_index(drop=True, inplace=True)\n",
    "\n",
    "# فحص نهائي\n",
    "print(\"\\n✅ Cleaned Data Summary:\")\n",
    "display(df.describe())\n",
    "\n",
    "print(\"\\n📋 Final Data Info:\")\n",
    "df.info()"
   ]
  },
  {
   "cell_type": "code",
   "execution_count": 12,
   "id": "975a5f4d-0a30-478a-b3d8-0758695dc41f",
   "metadata": {},
   "outputs": [
    {
     "name": "stdout",
     "output_type": "stream",
     "text": [
      "✅ Total Sales Revenue: $ 448696443.0\n",
      "✅ Total Profit: $ 114967965.0\n"
     ]
    }
   ],
   "source": [
    "# إجمالي الإيرادات\n",
    "total_revenue = df['Sales_Revenue'].sum()\n",
    "print(\"✅ Total Sales Revenue: $\", total_revenue)\n",
    "\n",
    "# إجمالي الربح\n",
    "total_profit = df['Profit'].sum()\n",
    "print(\"✅ Total Profit: $\", total_profit)\n"
   ]
  },
  {
   "cell_type": "code",
   "execution_count": 13,
   "id": "8a634bfb-b00a-4438-a629-eededceb97dc",
   "metadata": {},
   "outputs": [
    {
     "name": "stdout",
     "output_type": "stream",
     "text": [
      "✅ Total Profit: $ 114967965.0\n"
     ]
    }
   ],
   "source": [
    "# حساب إجمالي الربح\n",
    "total_profit = df['Profit'].sum()\n",
    "print(\"✅ Total Profit: $\", total_profit)\n"
   ]
  },
  {
   "cell_type": "code",
   "execution_count": 14,
   "id": "9fd2f95e-dd41-4921-b575-383a64b50f75",
   "metadata": {},
   "outputs": [
    {
     "name": "stdout",
     "output_type": "stream",
     "text": [
      "✅ Number of units sold per Brand:\n",
      " Brand\n",
      "Apple      87213\n",
      "Google     91731\n",
      "Huawei     92789\n",
      "OnePlus    91960\n",
      "Samsung    94756\n",
      "Xiaomi     90055\n",
      "Name: Quantity_Sold, dtype: int64\n"
     ]
    }
   ],
   "source": [
    "# حساب عدد الوحدات المباعة لكل علامة تجارية\n",
    "units_sold_per_brand = df.groupby('Brand')['Quantity_Sold'].sum()\n",
    "print(\"✅ Number of units sold per Brand:\\n\", units_sold_per_brand)\n"
   ]
  },
  {
   "cell_type": "code",
   "execution_count": 15,
   "id": "75923138-c9d8-4c87-8129-fa2f3d5e17f3",
   "metadata": {},
   "outputs": [
    {
     "name": "stdout",
     "output_type": "stream",
     "text": [
      "✅ Average price per Brand:\n",
      " Brand\n",
      "Apple      860.625000\n",
      "Google     850.610063\n",
      "Huawei     863.283439\n",
      "OnePlus    863.587097\n",
      "Samsung    883.899110\n",
      "Xiaomi     869.110032\n",
      "Name: Price_USD, dtype: float64\n"
     ]
    }
   ],
   "source": [
    "# حساب متوسط السعر لكل علامة تجارية\n",
    "avg_price_per_brand = df.groupby('Brand')['Price_USD'].mean()\n",
    "print(\"✅ Average price per Brand:\\n\", avg_price_per_brand)\n"
   ]
  },
  {
   "cell_type": "code",
   "execution_count": 16,
   "id": "d4cfee28-f991-4370-85f3-8b7415ff50a9",
   "metadata": {},
   "outputs": [
    {
     "name": "stdout",
     "output_type": "stream",
     "text": [
      "✅ Top-rated phone:\n",
      " Phone_ID        64\n",
      "Brand       Huawei\n",
      "Rating         5.0\n",
      "Name: 63, dtype: object\n"
     ]
    }
   ],
   "source": [
    "# الهاتف الأعلى تقييمًا\n",
    "top_rated_phone = df.loc[df['Rating'].idxmax()]\n",
    "print(\"✅ Top-rated phone:\\n\", top_rated_phone[['Phone_ID', 'Brand', 'Rating']])\n"
   ]
  },
  {
   "cell_type": "code",
   "execution_count": 17,
   "id": "f8aab448-4c91-454b-a7b9-ed2c0aae9b77",
   "metadata": {},
   "outputs": [
    {
     "name": "stdout",
     "output_type": "stream",
     "text": [
      "✅ Average rating per OS:\n",
      " OS\n",
      "Android    3.994743\n",
      "iOS        4.011014\n",
      "Name: Rating, dtype: float64\n"
     ]
    }
   ],
   "source": [
    "# حساب متوسط التقييم لكل نظام تشغيل\n",
    "avg_rating_per_os = df.groupby('OS')['Rating'].mean()\n",
    "print(\"✅ Average rating per OS:\\n\", avg_rating_per_os)\n"
   ]
  },
  {
   "cell_type": "code",
   "execution_count": 18,
   "id": "6d65c68b-3db0-48d4-baed-ff8ce225e9ea",
   "metadata": {},
   "outputs": [
    {
     "name": "stdout",
     "output_type": "stream",
     "text": [
      "✅ Most profitable phones:\n",
      "       Phone_ID    Brand     Profit\n",
      "1079      1080   Huawei  184628.50\n",
      "1874      1875  Samsung  183264.00\n",
      "1667      1668   Google  179328.75\n",
      "486        487   Huawei  177631.50\n",
      "1677      1678   Huawei  177511.50\n"
     ]
    }
   ],
   "source": [
    "# عرض أكثر الهواتف ربحًا\n",
    "most_profitable_phones = df[['Phone_ID', 'Brand', 'Profit']].sort_values(by='Profit', ascending=False)\n",
    "print(\"✅ Most profitable phones:\\n\", most_profitable_phones.head())\n"
   ]
  },
  {
   "cell_type": "code",
   "execution_count": 19,
   "id": "a9b8bcae-e528-4b3b-9c73-9c616040d1a3",
   "metadata": {},
   "outputs": [
    {
     "name": "stdout",
     "output_type": "stream",
     "text": [
      "✅ Average profit per unit sold: $ 216.2512886597938\n"
     ]
    }
   ],
   "source": [
    "# حساب متوسط الربح لكل وحدة مباعة\n",
    "df['Profit_Per_Unit'] = df['Profit'] / df['Quantity_Sold']\n",
    "avg_profit_per_unit = df['Profit_Per_Unit'].mean()\n",
    "print(\"✅ Average profit per unit sold: $\", avg_profit_per_unit)\n"
   ]
  },
  {
   "cell_type": "code",
   "execution_count": 20,
   "id": "76c9f96d-ad53-4dc0-881f-7620cd01b0f2",
   "metadata": {},
   "outputs": [
    {
     "name": "stdout",
     "output_type": "stream",
     "text": [
      "✅ Comparison of Android vs iOS:\n",
      "          Sales_Revenue       Profit  Quantity_Sold\n",
      "OS                                                \n",
      "Android    375122415.0  95969342.75         456507\n",
      "iOS         73574028.0  18998622.25          91997\n"
     ]
    }
   ],
   "source": [
    "# مقارنة بين Android و iOS من حيث الإيرادات، الربح، والمبيعات\n",
    "comparison = df.groupby('OS').agg({'Sales_Revenue': 'sum', 'Profit': 'sum', 'Quantity_Sold': 'sum'})\n",
    "print(\"✅ Comparison of Android vs iOS:\\n\", comparison)\n"
   ]
  },
  {
   "cell_type": "code",
   "execution_count": 21,
   "id": "de7a71eb-f053-4da8-994f-697206651045",
   "metadata": {},
   "outputs": [
    {
     "name": "stdout",
     "output_type": "stream",
     "text": [
      "✅ Correlation between RAM and Sales: 0.01491283163631547\n"
     ]
    }
   ],
   "source": [
    "# حساب الترابط بين RAM وحجم المبيعات\n",
    "correlation_ram_sales = df['RAM_GB'].corr(df['Quantity_Sold'])\n",
    "print(\"✅ Correlation between RAM and Sales:\", correlation_ram_sales)\n"
   ]
  }
 ],
 "metadata": {
  "kernelspec": {
   "display_name": "Python 3 (ipykernel)",
   "language": "python",
   "name": "python3"
  },
  "language_info": {
   "codemirror_mode": {
    "name": "ipython",
    "version": 3
   },
   "file_extension": ".py",
   "mimetype": "text/x-python",
   "name": "python",
   "nbconvert_exporter": "python",
   "pygments_lexer": "ipython3",
   "version": "3.12.4"
  }
 },
 "nbformat": 4,
 "nbformat_minor": 5
}
